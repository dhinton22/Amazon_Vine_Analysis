{
  "nbformat": 4,
  "nbformat_minor": 0,
  "metadata": {
    "colab": {
      "name": "Vine_Review_Analysis.ipynb",
      "provenance": [],
      "authorship_tag": "ABX9TyOE28tyQOPusR7Mk3FU7ttb",
      "include_colab_link": true
    },
    "kernelspec": {
      "name": "python3",
      "display_name": "Python 3"
    },
    "language_info": {
      "name": "python"
    }
  },
  "cells": [
    {
      "cell_type": "markdown",
      "metadata": {
        "id": "view-in-github",
        "colab_type": "text"
      },
      "source": [
        "<a href=\"https://colab.research.google.com/github/dhinton22/Amazon_Vine_Analysis/blob/main/Vine_Review_Analysis.ipynb\" target=\"_parent\"><img src=\"https://colab.research.google.com/assets/colab-badge.svg\" alt=\"Open In Colab\"/></a>"
      ]
    },
    {
      "cell_type": "code",
      "execution_count": 1,
      "metadata": {
        "colab": {
          "base_uri": "https://localhost:8080/"
        },
        "id": "y4lnGsJWOKqZ",
        "outputId": "41a95166-1a30-4763-d1b1-dfec961f0b8c"
      },
      "outputs": [
        {
          "output_type": "stream",
          "name": "stdout",
          "text": [
            "Hit:1 http://archive.ubuntu.com/ubuntu bionic InRelease\n",
            "Get:2 http://archive.ubuntu.com/ubuntu bionic-updates InRelease [88.7 kB]\n",
            "Get:3 http://archive.ubuntu.com/ubuntu bionic-backports InRelease [74.6 kB]\n",
            "Get:4 http://ppa.launchpad.net/c2d4u.team/c2d4u4.0+/ubuntu bionic InRelease [15.9 kB]\n",
            "Hit:5 http://ppa.launchpad.net/cran/libgit2/ubuntu bionic InRelease\n",
            "Get:6 http://ppa.launchpad.net/deadsnakes/ppa/ubuntu bionic InRelease [15.9 kB]\n",
            "Get:7 https://cloud.r-project.org/bin/linux/ubuntu bionic-cran40/ InRelease [3,626 B]\n",
            "Hit:8 http://ppa.launchpad.net/graphics-drivers/ppa/ubuntu bionic InRelease\n",
            "Get:9 http://security.ubuntu.com/ubuntu bionic-security InRelease [88.7 kB]\n",
            "Ign:10 https://developer.download.nvidia.com/compute/machine-learning/repos/ubuntu1804/x86_64  InRelease\n",
            "Get:11 https://developer.download.nvidia.com/compute/cuda/repos/ubuntu1804/x86_64  InRelease [1,581 B]\n",
            "Get:12 http://archive.ubuntu.com/ubuntu bionic-updates/main amd64 Packages [3,336 kB]\n",
            "Hit:13 https://developer.download.nvidia.com/compute/machine-learning/repos/ubuntu1804/x86_64  Release\n",
            "Get:14 http://archive.ubuntu.com/ubuntu bionic-updates/universe amd64 Packages [2,306 kB]\n",
            "Get:15 http://ppa.launchpad.net/c2d4u.team/c2d4u4.0+/ubuntu bionic/main Sources [2,077 kB]\n",
            "Get:16 http://ppa.launchpad.net/c2d4u.team/c2d4u4.0+/ubuntu bionic/main amd64 Packages [1,064 kB]\n",
            "Get:17 http://ppa.launchpad.net/deadsnakes/ppa/ubuntu bionic/main amd64 Packages [45.3 kB]\n",
            "Get:18 https://developer.download.nvidia.com/compute/cuda/repos/ubuntu1804/x86_64  Packages [902 kB]\n",
            "Get:19 http://security.ubuntu.com/ubuntu bionic-security/main amd64 Packages [2,905 kB]\n",
            "Get:21 http://security.ubuntu.com/ubuntu bionic-security/universe amd64 Packages [1,528 kB]\n",
            "Fetched 14.5 MB in 11s (1,293 kB/s)\n",
            "Reading package lists... Done\n"
          ]
        }
      ],
      "source": [
        "import os\n",
        "# Find the latest version of spark 3.0  from http://www.apache.org/dist/spark/ and enter as the spark version\n",
        "# For example:\n",
        "# spark_version = 'spark-3.0.3'\n",
        "spark_version = 'spark-3.3.0'\n",
        "os.environ['SPARK_VERSION']=spark_version\n",
        "\n",
        "# Install Spark and Java\n",
        "!apt-get update\n",
        "!apt-get install openjdk-11-jdk-headless -qq > /dev/null\n",
        "!wget -q http://www.apache.org/dist/spark/$SPARK_VERSION/$SPARK_VERSION-bin-hadoop3.tgz\n",
        "!tar xf $SPARK_VERSION-bin-hadoop3.tgz\n",
        "!pip install -q findspark\n",
        "\n",
        "# Set Environment Variables\n",
        "import os\n",
        "os.environ[\"JAVA_HOME\"] = \"/usr/lib/jvm/java-11-openjdk-amd64\"\n",
        "os.environ[\"SPARK_HOME\"] = f\"/content/{spark_version}-bin-hadoop3\"\n",
        "\n",
        "# Start a SparkSession\n",
        "import findspark\n",
        "findspark.init()\n"
      ]
    },
    {
      "cell_type": "code",
      "source": [
        "# Download the Postgres driver that will allow Spark to interact with Postgres.\n",
        "!wget https://jdbc.postgresql.org/download/postgresql-42.2.16.jar"
      ],
      "metadata": {
        "colab": {
          "base_uri": "https://localhost:8080/"
        },
        "id": "0w_xRaVbOpsm",
        "outputId": "c8472ef2-a6ad-45f0-9e53-1ae6e0982933"
      },
      "execution_count": 2,
      "outputs": [
        {
          "output_type": "stream",
          "name": "stdout",
          "text": [
            "--2022-08-09 01:31:46--  https://jdbc.postgresql.org/download/postgresql-42.2.16.jar\n",
            "Resolving jdbc.postgresql.org (jdbc.postgresql.org)... 72.32.157.228, 2001:4800:3e1:1::228\n",
            "Connecting to jdbc.postgresql.org (jdbc.postgresql.org)|72.32.157.228|:443... connected.\n",
            "HTTP request sent, awaiting response... 200 OK\n",
            "Length: 1002883 (979K) [application/java-archive]\n",
            "Saving to: ‘postgresql-42.2.16.jar’\n",
            "\n",
            "postgresql-42.2.16. 100%[===================>] 979.38K  1.59MB/s    in 0.6s    \n",
            "\n",
            "2022-08-09 01:31:48 (1.59 MB/s) - ‘postgresql-42.2.16.jar’ saved [1002883/1002883]\n",
            "\n"
          ]
        }
      ]
    },
    {
      "cell_type": "code",
      "source": [
        "# Step 1: Filter the data and create a new DataFrame or table to retrieve all the rows where the total_votes count is equal to or greater than 20\n",
        "from pyspark.sql.functions import col\n",
        "total_votes_df = vine_df.filter(col(\"total_votes\") >= 20)"
      ],
      "metadata": {
        "id": "27QgJoY8OruI"
      },
      "execution_count": 37,
      "outputs": []
    },
    {
      "cell_type": "code",
      "source": [
        "# Step 2: Retrieve all the rows where the number of helpful_votes divided by total_votes is equal to or greater than 50%.\n",
        "percent_votes_df = total_votes_df.withColumn('percent_votes',col('helpful_votes')/col('total_votes')).alias('percent_votes').filter(col(\"percent_votes\") >= 0.5)\n",
        "percent_votes_df.show()"
      ],
      "metadata": {
        "colab": {
          "base_uri": "https://localhost:8080/"
        },
        "id": "eJHMLvRbQYIZ",
        "outputId": "5fed758f-3166-4fe7-d8ad-326c251d9bd2"
      },
      "execution_count": 38,
      "outputs": [
        {
          "output_type": "stream",
          "name": "stdout",
          "text": [
            "+--------------+-----------+-------------+-----------+----+-----------------+------------------+\n",
            "|     review_id|star_rating|helpful_votes|total_votes|vine|verified_purchase|     percent_votes|\n",
            "+--------------+-----------+-------------+-----------+----+-----------------+------------------+\n",
            "|R26CC1STPSUHBS|          1|           27|         39|   N|                N|0.6923076923076923|\n",
            "| R7K83D59T9KWS|          1|           16|         26|   N|                N|0.6153846153846154|\n",
            "|R2ATG5BPVILHUM|          1|           16|         25|   N|                N|              0.64|\n",
            "|R1Q71TAM5ZOYTK|          3|           57|         61|   N|                N|0.9344262295081968|\n",
            "| RR8HYI7C2XKMU|          5|           25|         25|   N|                Y|               1.0|\n",
            "|R1VDCSJE4CJJIR|          1|           88|         97|   N|                Y|0.9072164948453608|\n",
            "|R2PZMSDKOO1Q6W|          1|           29|         43|   N|                Y|0.6744186046511628|\n",
            "|R39OOYN0DOLINK|          3|           91|        111|   N|                N|0.8198198198198198|\n",
            "|R1PLNHJZ8BKIBG|          1|           44|         46|   N|                Y|0.9565217391304348|\n",
            "|R3UTVKJF44E0R6|          1|           46|         69|   N|                N|0.6666666666666666|\n",
            "|R2CAD5FOVMTR2L|          2|           17|         28|   N|                N|0.6071428571428571|\n",
            "|R2SW9V1EDQH6O7|          5|           27|         29|   N|                N|0.9310344827586207|\n",
            "|R3SI1TZD809Y0T|          5|           24|         24|   N|                Y|               1.0|\n",
            "|R2V0VLBRWCMX3I|          1|          563|        601|   N|                N|0.9367720465890182|\n",
            "| R34R79B2P5DJD|          1|           87|        112|   N|                N|0.7767857142857143|\n",
            "| R4D6AQ86X5RQG|          1|           22|         26|   N|                N|0.8461538461538461|\n",
            "|R1BSZ4PB99TN8D|          1|           61|         90|   N|                N|0.6777777777777778|\n",
            "|R1QMF01BDRT2LJ|          1|           10|         20|   N|                N|               0.5|\n",
            "|R2NBUUW79OYBGT|          1|           57|         58|   N|                Y|0.9827586206896551|\n",
            "|R24OEFISZWTBDJ|          4|           17|         25|   N|                N|              0.68|\n",
            "+--------------+-----------+-------------+-----------+----+-----------------+------------------+\n",
            "only showing top 20 rows\n",
            "\n"
          ]
        }
      ]
    },
    {
      "cell_type": "code",
      "source": [
        "# Step 3: Retrieves all the rows where a review was written as part of the Vine program (paid)\n",
        "paid_df = percent_votes_df.filter(col(\"vine\") == \"Y\").show()"
      ],
      "metadata": {
        "colab": {
          "base_uri": "https://localhost:8080/"
        },
        "id": "czvXPRAjQa1N",
        "outputId": "2dcb68ad-03ab-43b6-e1b1-40691a7d1429"
      },
      "execution_count": 39,
      "outputs": [
        {
          "output_type": "stream",
          "name": "stdout",
          "text": [
            "+--------------+-----------+-------------+-----------+----+-----------------+------------------+\n",
            "|     review_id|star_rating|helpful_votes|total_votes|vine|verified_purchase|     percent_votes|\n",
            "+--------------+-----------+-------------+-----------+----+-----------------+------------------+\n",
            "|R28EIR3Z6RRUNN|          2|           50|         60|   Y|                N|0.8333333333333334|\n",
            "|R2YO2RESXZEWOF|          4|           24|         25|   Y|                N|              0.96|\n",
            "| R8GEE2EW3D6S9|          3|           49|         54|   Y|                N|0.9074074074074074|\n",
            "|R33W9V1MX6WKPS|          4|           47|         53|   Y|                N|0.8867924528301887|\n",
            "|R24E3W2ZRIFG8C|          5|           91|         93|   Y|                N| 0.978494623655914|\n",
            "|R2OR3KIFFG4YWT|          4|           75|         81|   Y|                Y|0.9259259259259259|\n",
            "|R1RLJAAFOA5MMS|          2|           25|         27|   Y|                N|0.9259259259259259|\n",
            "| RVYHD7IZ7W99B|          1|           78|         78|   Y|                N|               1.0|\n",
            "|R12EV95D2T56HA|          5|           37|         37|   Y|                N|               1.0|\n",
            "|R296NVZGV4VZLP|          5|           41|         44|   Y|                N|0.9318181818181818|\n",
            "| RLJPGO3YMKSI6|          5|           24|         27|   Y|                N|0.8888888888888888|\n",
            "|R33KYYMINUELQA|          2|           23|         23|   Y|                N|               1.0|\n",
            "| RNNE1AAL4XU7W|          4|           60|         64|   Y|                N|            0.9375|\n",
            "| RC38M96UFDOOI|          3|           78|         87|   Y|                N| 0.896551724137931|\n",
            "| RR9F2YTECN67C|          5|           35|         37|   Y|                N|0.9459459459459459|\n",
            "|R1HB8SSCA97V9U|          5|          100|        105|   Y|                N|0.9523809523809523|\n",
            "| RX4E94KN6K16U|          5|           56|         59|   Y|                N|0.9491525423728814|\n",
            "|R1XLGO18EB3KZA|          5|           25|         25|   Y|                N|               1.0|\n",
            "|R1R9XER49EMT2N|          2|           34|         35|   Y|                N|0.9714285714285714|\n",
            "| R7ST49NTUXZLV|          5|           23|         25|   Y|                N|              0.92|\n",
            "+--------------+-----------+-------------+-----------+----+-----------------+------------------+\n",
            "only showing top 20 rows\n",
            "\n"
          ]
        }
      ]
    },
    {
      "cell_type": "code",
      "source": [
        "# Step 4: Retrieves all the rows where the review was not part of the Vine program (unpaid)\n",
        "non_paid_df = percent_votes_df.filter(col(\"vine\") == \"N\").show()"
      ],
      "metadata": {
        "colab": {
          "base_uri": "https://localhost:8080/"
        },
        "id": "TXWKcRZPQceg",
        "outputId": "a24fb113-17d3-4c1d-ac8c-36fc9f6820b9"
      },
      "execution_count": 40,
      "outputs": [
        {
          "output_type": "stream",
          "name": "stdout",
          "text": [
            "+--------------+-----------+-------------+-----------+----+-----------------+------------------+\n",
            "|     review_id|star_rating|helpful_votes|total_votes|vine|verified_purchase|     percent_votes|\n",
            "+--------------+-----------+-------------+-----------+----+-----------------+------------------+\n",
            "|R26CC1STPSUHBS|          1|           27|         39|   N|                N|0.6923076923076923|\n",
            "| R7K83D59T9KWS|          1|           16|         26|   N|                N|0.6153846153846154|\n",
            "|R2ATG5BPVILHUM|          1|           16|         25|   N|                N|              0.64|\n",
            "|R1Q71TAM5ZOYTK|          3|           57|         61|   N|                N|0.9344262295081968|\n",
            "| RR8HYI7C2XKMU|          5|           25|         25|   N|                Y|               1.0|\n",
            "|R1VDCSJE4CJJIR|          1|           88|         97|   N|                Y|0.9072164948453608|\n",
            "|R2PZMSDKOO1Q6W|          1|           29|         43|   N|                Y|0.6744186046511628|\n",
            "|R39OOYN0DOLINK|          3|           91|        111|   N|                N|0.8198198198198198|\n",
            "|R1PLNHJZ8BKIBG|          1|           44|         46|   N|                Y|0.9565217391304348|\n",
            "|R3UTVKJF44E0R6|          1|           46|         69|   N|                N|0.6666666666666666|\n",
            "|R2CAD5FOVMTR2L|          2|           17|         28|   N|                N|0.6071428571428571|\n",
            "|R2SW9V1EDQH6O7|          5|           27|         29|   N|                N|0.9310344827586207|\n",
            "|R3SI1TZD809Y0T|          5|           24|         24|   N|                Y|               1.0|\n",
            "|R2V0VLBRWCMX3I|          1|          563|        601|   N|                N|0.9367720465890182|\n",
            "| R34R79B2P5DJD|          1|           87|        112|   N|                N|0.7767857142857143|\n",
            "| R4D6AQ86X5RQG|          1|           22|         26|   N|                N|0.8461538461538461|\n",
            "|R1BSZ4PB99TN8D|          1|           61|         90|   N|                N|0.6777777777777778|\n",
            "|R1QMF01BDRT2LJ|          1|           10|         20|   N|                N|               0.5|\n",
            "|R2NBUUW79OYBGT|          1|           57|         58|   N|                Y|0.9827586206896551|\n",
            "|R24OEFISZWTBDJ|          4|           17|         25|   N|                N|              0.68|\n",
            "+--------------+-----------+-------------+-----------+----+-----------------+------------------+\n",
            "only showing top 20 rows\n",
            "\n"
          ]
        }
      ]
    },
    {
      "cell_type": "code",
      "source": [
        "# Step 5: Determine the total number of reviews, the number of 5-star reviews, and the percentage of 5-star reviews for the two types of review (paid vs unpaid).\n",
        "\n",
        "from pyspark.sql.functions import col,when,count,lit\n",
        "ratings_total_df = percent_votes_df.groupBy(\"vine\").agg(\n",
        "    count(col(\"vine\")).alias(\"Total_Reviews\"),\n",
        "    count(when(col(\"star_rating\") == 5, True)).alias(\"Total_5_Star_Reviews\"),\n",
        "    (count(when(col(\"star_rating\") == 5, True))/count(col(\"vine\"))*100).alias(\"%_5_Star_To_Total\")).show()"
      ],
      "metadata": {
        "colab": {
          "base_uri": "https://localhost:8080/"
        },
        "id": "kF3FXA4_QeNV",
        "outputId": "0b32cce5-810c-43ea-d369-b62b19cc8ae3"
      },
      "execution_count": 41,
      "outputs": [
        {
          "output_type": "stream",
          "name": "stdout",
          "text": [
            "+----+-------------+--------------------+------------------+\n",
            "|vine|Total_Reviews|Total_5_Star_Reviews| %_5_Star_To_Total|\n",
            "+----+-------------+--------------------+------------------+\n",
            "|   Y|          248|                 102| 41.12903225806452|\n",
            "|   N|        17513|                5153|29.423856563695537|\n",
            "+----+-------------+--------------------+------------------+\n",
            "\n"
          ]
        }
      ]
    },
    {
      "cell_type": "code",
      "source": [
        "ratings_total_df = vine_df.groupBy(\"vine\").agg(\n",
        "    count(col(\"vine\")).alias(\"Total_Reviews\"),\n",
        "    count(when(col(\"star_rating\") == 5, True)).alias(\"Total_5_Star_Reviews\"),\n",
        "    (count(when(col(\"star_rating\") == 5, True))/count(col(\"vine\"))*100).alias(\"%_5_Star_To_Total\")).show()"
      ],
      "metadata": {
        "colab": {
          "base_uri": "https://localhost:8080/"
        },
        "id": "haxaKPFbW5Yq",
        "outputId": "a1e87984-5698-44f6-fde9-bc3e220b2173"
      },
      "execution_count": 43,
      "outputs": [
        {
          "output_type": "stream",
          "name": "stdout",
          "text": [
            "+----+-------------+--------------------+------------------+\n",
            "|vine|Total_Reviews|Total_5_Star_Reviews| %_5_Star_To_Total|\n",
            "+----+-------------+--------------------+------------------+\n",
            "|   Y|        10415|                3381|32.462794047047524|\n",
            "|   N|       331498|              150557|  45.4171669210674|\n",
            "+----+-------------+--------------------+------------------+\n",
            "\n"
          ]
        }
      ]
    }
  ]
}